{
 "cells": [
  {
   "cell_type": "code",
   "execution_count": null,
   "id": "b8da3117-4fa6-495f-966b-04c3d8473adf",
   "metadata": {},
   "outputs": [
    {
     "name": "stdout",
     "output_type": "stream",
     "text": [
      "Dataloader\n",
      "800 ../dataset/div2klrx4\n",
      "tot_batch 800\n",
      "  0%|                                     | 1/160001 [00:00<38:28:51,  1.15it/s]100 ../dataset/DIV2K_valid_HR\n",
      "  0%|▏                                  | 800/160001 [03:32<10:55:32,  4.05it/s]100 ../dataset/DIV2K_valid_HR\n",
      "  1%|▎                                 | 1599/160001 [07:05<10:58:10,  4.01it/s]100 ../dataset/DIV2K_valid_HR\n",
      "  1%|▌                                 | 2398/160001 [10:39<10:54:25,  4.01it/s]100 ../dataset/DIV2K_valid_HR\n",
      "  2%|▌                                 | 2416/160001 [10:58<11:18:08,  3.87it/s]"
     ]
    }
   ],
   "source": [
    "!python main.py --epoch 200 --lr 0.0002 --batch-size 1 --name dataRestormer"
   ]
  },
  {
   "cell_type": "code",
   "execution_count": 1,
   "id": "9a891c95-6683-4088-844c-c5f123719fba",
   "metadata": {},
   "outputs": [],
   "source": [
    "# !pip install torchsummary"
   ]
  },
  {
   "cell_type": "code",
   "execution_count": 9,
   "id": "d57ae96a-6c88-4185-bef4-f7f8f176ae1f",
   "metadata": {},
   "outputs": [
    {
     "name": "stdout",
     "output_type": "stream",
     "text": [
      "5 /home/galvin/code/dataset/Set5\n",
      "100%|█████████████████████████████████████████████| 5/5 [00:01<00:00,  2.85it/s]\n",
      "psnrx2,ssimx2,psnr4,ssim4 43.63539602767199 0.9862322747294847 36.69403386214139 0.9434909365494409\n",
      "14 /home/galvin/code/dataset/Set14\n",
      "100%|███████████████████████████████████████████| 14/14 [00:04<00:00,  3.07it/s]\n",
      "psnrx2,ssimx2,psnr4,ssim4 35.944916024096706 0.9430203701339258 29.45322712654393 0.8260492650578587\n",
      "100 /home/galvin/code/dataset/BSD100\n",
      "100%|█████████████████████████████████████████| 100/100 [00:31<00:00,  3.15it/s]\n",
      "psnrx2,ssimx2,psnr4,ssim4 36.86157345647391 0.956709590365172 30.257605215286702 0.8222176175958836\n",
      "100 /home/galvin/code/dataset/urban100\n",
      "100%|█████████████████████████████████████████| 100/100 [00:31<00:00,  3.13it/s]\n",
      "psnrx2,ssimx2,psnr4,ssim4 31.714933333372993 0.9310901370489776 25.441008708085878 0.7584575967769444\n",
      "109 /home/galvin/code/dataset/manga\n",
      "100%|█████████████████████████████████████████| 109/109 [00:34<00:00,  3.19it/s]\n",
      "psnrx2,ssimx2,psnr4,ssim4 32.57814416498392 0.9568133503105872 25.3858280793468 0.8138101753518641\n"
     ]
    }
   ],
   "source": [
    "%matplotlib inline \n",
    "!python test.py --batch-size 1  --weight './dataRestormer11114'"
   ]
  },
  {
   "cell_type": "code",
   "execution_count": 2,
   "id": "8b665351-0567-4ff1-b77a-3d175fd23c58",
   "metadata": {},
   "outputs": [],
   "source": [
    "# %matplotlib inline \n",
    "# !python test2s.py --batch-size 1  --weight './dataRestormercat1'"
   ]
  },
  {
   "cell_type": "code",
   "execution_count": null,
   "id": "7d99b70c-f0f6-4408-85cd-868ba8389e90",
   "metadata": {},
   "outputs": [],
   "source": [
    "# import matplotlib.pyplot as plt\n",
    "# import numpy as np\n",
    "# %matplotlib inline  \n",
    "# # Fixing random state for reproducibility\n",
    "\n",
    "\n",
    "# x=np.random.random((100, 100))\n",
    "# print(x.shape)\n",
    "# plt.subplot(121)\n",
    "# plt.imshow(x)\n",
    "# plt.subplot(122)\n",
    "# plt.imshow(np.random.random((100, 100)))\n",
    "\n",
    "# plt.subplots_adjust(bottom=0.0, right=.9, top=1)\n",
    "# cax = plt.axes([0.9, 0.1, 0.08, 0.8])\n",
    "# plt.colorbar(cax=cax)\n",
    "\n",
    "# plt.show()\n"
   ]
  },
  {
   "cell_type": "code",
   "execution_count": null,
   "id": "6f7ee34a-496d-42b7-aa4f-c5c1b7f54152",
   "metadata": {},
   "outputs": [],
   "source": []
  },
  {
   "cell_type": "markdown",
   "id": "9f8300ab-2fd0-4dc3-9372-e15cd733b44e",
   "metadata": {},
   "source": [
    "$$E_{L_i}$$"
   ]
  },
  {
   "cell_type": "code",
   "execution_count": null,
   "id": "0896b862-87b1-4e42-9703-4be34eeeecfa",
   "metadata": {},
   "outputs": [],
   "source": []
  },
  {
   "cell_type": "code",
   "execution_count": null,
   "id": "3381df9d-002a-4818-a1c8-cac21cbadb83",
   "metadata": {},
   "outputs": [],
   "source": []
  }
 ],
 "metadata": {
  "kernelspec": {
   "display_name": "Python 3",
   "language": "python",
   "name": "python3"
  },
  "language_info": {
   "codemirror_mode": {
    "name": "ipython",
    "version": 3
   },
   "file_extension": ".py",
   "mimetype": "text/x-python",
   "name": "python",
   "nbconvert_exporter": "python",
   "pygments_lexer": "ipython3",
   "version": "3.6.13"
  }
 },
 "nbformat": 4,
 "nbformat_minor": 5
}
